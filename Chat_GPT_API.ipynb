{
 "cells": [
  {
   "cell_type": "code",
   "execution_count": 1,
   "id": "a495ba43",
   "metadata": {},
   "outputs": [],
   "source": [
    "import pandas as pd\n",
    "import openai\n",
    "from get_keys import get_api_and_org_keys"
   ]
  },
  {
   "cell_type": "code",
   "execution_count": 2,
   "id": "6a80422c",
   "metadata": {},
   "outputs": [],
   "source": [
    "api_key, org = get_api_and_org_keys()"
   ]
  },
  {
   "cell_type": "code",
   "execution_count": 3,
   "id": "63eeafcf",
   "metadata": {},
   "outputs": [
    {
     "name": "stdout",
     "output_type": "stream",
     "text": [
      "1.3.8\n"
     ]
    }
   ],
   "source": [
    "print(openai.VERSION)"
   ]
  },
  {
   "cell_type": "code",
   "execution_count": 4,
   "id": "6f6f36db",
   "metadata": {},
   "outputs": [],
   "source": [
    "# Authorization = print(f'Authorization: Bearer {api_key}')"
   ]
  },
  {
   "cell_type": "code",
   "execution_count": 5,
   "id": "e1b9160e",
   "metadata": {},
   "outputs": [],
   "source": [
    "# Organization = print(f'OpenAI-Organization: {org}')"
   ]
  },
  {
   "cell_type": "code",
   "execution_count": 11,
   "id": "51c16ce6",
   "metadata": {},
   "outputs": [],
   "source": [
    "# prompt = \"Suggest three different ways of making coffee\"\n",
    "\n",
    "# response = openai.Completion.create(model='davinci-002', prompt = prompt)"
   ]
  },
  {
   "cell_type": "code",
   "execution_count": 17,
   "id": "7316d927",
   "metadata": {},
   "outputs": [],
   "source": [
    "messages = [{'role':'system','content':'You are a kind helpful assistant.'},]"
   ]
  },
  {
   "cell_type": "code",
   "execution_count": 18,
   "id": "dc4eba54",
   "metadata": {},
   "outputs": [
    {
     "name": "stdout",
     "output_type": "stream",
     "text": [
      "User : Who is the president?\n"
     ]
    },
    {
     "ename": "APIRemovedInV1",
     "evalue": "\n\nYou tried to access openai.ChatCompletion, but this is no longer supported in openai>=1.0.0 - see the README at https://github.com/openai/openai-python for the API.\n\nYou can run `openai migrate` to automatically upgrade your codebase to use the 1.0.0 interface. \n\nAlternatively, you can pin your installation to the old version, e.g. `pip install openai==0.28`\n\nA detailed migration guide is available here: https://github.com/openai/openai-python/discussions/742\n",
     "output_type": "error",
     "traceback": [
      "\u001b[0;31m---------------------------------------------------------------------------\u001b[0m",
      "\u001b[0;31mAPIRemovedInV1\u001b[0m                            Traceback (most recent call last)",
      "Cell \u001b[0;32mIn[18], line 6\u001b[0m\n\u001b[1;32m      3\u001b[0m \u001b[38;5;28;01mif\u001b[39;00m message:\n\u001b[1;32m      4\u001b[0m     messages\u001b[38;5;241m.\u001b[39mappend(\n\u001b[1;32m      5\u001b[0m     {\u001b[38;5;124m'\u001b[39m\u001b[38;5;124mrole\u001b[39m\u001b[38;5;124m'\u001b[39m: \u001b[38;5;124m'\u001b[39m\u001b[38;5;124muser\u001b[39m\u001b[38;5;124m'\u001b[39m, \u001b[38;5;124m'\u001b[39m\u001b[38;5;124mcontent\u001b[39m\u001b[38;5;124m'\u001b[39m: message},)\n\u001b[0;32m----> 6\u001b[0m     chat \u001b[38;5;241m=\u001b[39m openai\u001b[38;5;241m.\u001b[39mChatCompletion\u001b[38;5;241m.\u001b[39mcreate(model \u001b[38;5;241m=\u001b[39m \u001b[38;5;124m'\u001b[39m\u001b[38;5;124mdavinci-002\u001b[39m\u001b[38;5;124m'\u001b[39m, messages \u001b[38;5;241m=\u001b[39m messages)\n\u001b[1;32m      7\u001b[0m reply \u001b[38;5;241m=\u001b[39m chat\u001b[38;5;241m.\u001b[39mchoices[\u001b[38;5;241m0\u001b[39m]\u001b[38;5;241m.\u001b[39mmessage\u001b[38;5;241m.\u001b[39mcontent\n\u001b[1;32m      8\u001b[0m \u001b[38;5;28mprint\u001b[39m(\u001b[38;5;124mf\u001b[39m\u001b[38;5;124m'\u001b[39m\u001b[38;5;124mChatGPT: \u001b[39m\u001b[38;5;132;01m{\u001b[39;00mreply\u001b[38;5;132;01m}\u001b[39;00m\u001b[38;5;124m'\u001b[39m)\n",
      "File \u001b[0;32m/opt/homebrew/anaconda3/lib/python3.11/site-packages/openai/lib/_old_api.py:39\u001b[0m, in \u001b[0;36mAPIRemovedInV1Proxy.__call__\u001b[0;34m(self, *_args, **_kwargs)\u001b[0m\n\u001b[1;32m     38\u001b[0m \u001b[38;5;28;01mdef\u001b[39;00m \u001b[38;5;21m__call__\u001b[39m(\u001b[38;5;28mself\u001b[39m, \u001b[38;5;241m*\u001b[39m_args: Any, \u001b[38;5;241m*\u001b[39m\u001b[38;5;241m*\u001b[39m_kwargs: Any) \u001b[38;5;241m-\u001b[39m\u001b[38;5;241m>\u001b[39m Any:\n\u001b[0;32m---> 39\u001b[0m     \u001b[38;5;28;01mraise\u001b[39;00m APIRemovedInV1(symbol\u001b[38;5;241m=\u001b[39m\u001b[38;5;28mself\u001b[39m\u001b[38;5;241m.\u001b[39m_symbol)\n",
      "\u001b[0;31mAPIRemovedInV1\u001b[0m: \n\nYou tried to access openai.ChatCompletion, but this is no longer supported in openai>=1.0.0 - see the README at https://github.com/openai/openai-python for the API.\n\nYou can run `openai migrate` to automatically upgrade your codebase to use the 1.0.0 interface. \n\nAlternatively, you can pin your installation to the old version, e.g. `pip install openai==0.28`\n\nA detailed migration guide is available here: https://github.com/openai/openai-python/discussions/742\n"
     ]
    }
   ],
   "source": [
    "while True:\n",
    "    message = input('User : ')\n",
    "    if message:\n",
    "        messages.append(\n",
    "        {'role': 'user', 'content': message},)\n",
    "        chat = openai.ChatCompletion.create(model = 'davinci-002', messages = messages)\n",
    "    reply = chat.choices[0].message.content\n",
    "    print(f'ChatGPT: {reply}')\n",
    "    messages.append({'role':'assistant','content':reply})"
   ]
  },
  {
   "cell_type": "code",
   "execution_count": null,
   "id": "d7cd3dda",
   "metadata": {},
   "outputs": [],
   "source": [
    "completion = openai.ChatCompletion.create(\n",
    "model = \"davinci-002\",\n",
    "messages = [\n",
    "    \n",
    "])"
   ]
  }
 ],
 "metadata": {
  "kernelspec": {
   "display_name": "Python 3 (ipykernel)",
   "language": "python",
   "name": "python3"
  },
  "language_info": {
   "codemirror_mode": {
    "name": "ipython",
    "version": 3
   },
   "file_extension": ".py",
   "mimetype": "text/x-python",
   "name": "python",
   "nbconvert_exporter": "python",
   "pygments_lexer": "ipython3",
   "version": "3.11.5"
  }
 },
 "nbformat": 4,
 "nbformat_minor": 5
}
